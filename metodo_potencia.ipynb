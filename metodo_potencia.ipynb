{
 "cells": [
  {
   "cell_type": "markdown",
   "metadata": {},
   "source": [
    "# Método Potencia"
   ]
  },
  {
   "cell_type": "markdown",
   "metadata": {},
   "source": [
    "## Código"
   ]
  },
  {
   "cell_type": "markdown",
   "metadata": {},
   "source": [
    "### importaciones"
   ]
  },
  {
   "cell_type": "code",
   "execution_count": null,
   "metadata": {},
   "outputs": [],
   "source": [
    "import numpy as np"
   ]
  },
  {
   "cell_type": "markdown",
   "metadata": {},
   "source": [
    "### Definición de funciones"
   ]
  },
  {
   "cell_type": "code",
   "execution_count": null,
   "metadata": {},
   "outputs": [],
   "source": [
    "def norma(x) -> float:\n",
    "    M: float = 0\n",
    "    for x_i in x:\n",
    "        if abs(x_i) > M:\n",
    "            M = abs(x_i)\n",
    "    return M\n",
    "\n",
    "\n",
    "def encontrar_p(n:int, x, norma: float) -> float:\n",
    "    p: int = 0\n",
    "    for i in range(n):\n",
    "        if norma == abs(x[i]):\n",
    "            p = i\n",
    "            break\n",
    "    return p"
   ]
  }
 ],
 "metadata": {
  "language_info": {
   "name": "python"
  }
 },
 "nbformat": 4,
 "nbformat_minor": 2
}
